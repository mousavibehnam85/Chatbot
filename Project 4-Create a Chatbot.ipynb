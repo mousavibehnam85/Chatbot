{
 "cells": [
  {
   "cell_type": "code",
   "execution_count": 1,
   "id": "1ec2e262-3df6-4648-bab3-5c49d0276989",
   "metadata": {},
   "outputs": [],
   "source": [
    "######Create a Chatbot with Python\n",
    "#\n",
    "import nltk\n",
    "#nltk.chat.util is a module that contains utilities and classes for creating chatbots usually using chat class and reflections variable usually \n",
    "#holds dictionary words and transformations, mapping pronouns of persons......\n",
    "from nltk.chat.util import Chat, reflections\n",
    "from nltk.tokenize import word_tokenize\n",
    "from nltk.corpus import stopwords"
   ]
  },
  {
   "cell_type": "code",
   "execution_count": 2,
   "id": "69a5b465-0a87-42dd-8f9e-a2548565f089",
   "metadata": {},
   "outputs": [],
   "source": [
    "#Funcion o preprocess user input\n",
    "def preprocess_input(input_string):\n",
    "    #Tokenize and remove stopwords\n",
    "    tokens = word_tokenize(input_string)\n",
    "    tokens = [word for word in tokens if word.lower() not in stopwords.words('english')]\n",
    "    return '' .join(tokens)"
   ]
  },
  {
   "cell_type": "code",
   "execution_count": 3,
   "id": "0c7e6026-7118-44c6-8650-5ea43466af04",
   "metadata": {},
   "outputs": [],
   "source": [
    "#Define a set of pairs containing patterns and responses\n",
    "pairs = [\n",
    "    [r\"my name is(.*)\", [\"Hello, \\1. How can I help you today?\"]],\n",
    "    [r\"(what|who) (is|are) you?\", [\"I am a bot created to assist you.\"]],\n",
    "    [r\"(hi|hello|hey)\", [\"Hello, how can I help you today?\"]],\n",
    "    [r\"quit\", [\"Goodbye, have a great day!\"]],\n",
    "# Add more complex patterns and responses here\n",
    "]"
   ]
  },
  {
   "cell_type": "code",
   "execution_count": 4,
   "id": "1f6c4e73-8ccd-4120-8ce6-19a098b8d9e2",
   "metadata": {},
   "outputs": [],
   "source": [
    "#Creat the chatbot\n",
    "chatbot = Chat(pairs, reflections)\n",
    "#chatbot.converse() is one methode for starting a conversation"
   ]
  },
  {
   "cell_type": "code",
   "execution_count": null,
   "id": "de6dc3ad-d7b1-47d3-bcef-d0ba02f4abc9",
   "metadata": {},
   "outputs": [
    {
     "name": "stdout",
     "output_type": "stream",
     "text": [
      "Hi, I'm the chatbot. Type 'quit' to exit.\n"
     ]
    },
    {
     "name": "stdin",
     "output_type": "stream",
     "text": [
      "You: hello\n"
     ]
    },
    {
     "name": "stdout",
     "output_type": "stream",
     "text": [
      "Hello, how can I help you today?\n"
     ]
    },
    {
     "name": "stdin",
     "output_type": "stream",
     "text": [
      "You: What do you want to help with?\n"
     ]
    },
    {
     "name": "stdout",
     "output_type": "stream",
     "text": [
      "But:I'm not sure how to respond to that.\n"
     ]
    }
   ],
   "source": [
    "#Start conversation\n",
    "print(\"Hi, I'm the chatbot. Type 'quit' to exit.\")\n",
    "while True: \n",
    "    user_input = input(\"You:\")\n",
    "    processed_input = preprocess_input(user_input)\n",
    "    if processed_input.lower() ==  \"quit\":\n",
    "        print(\"Ok, goodbye, have a nice day.\")\n",
    "        break\n",
    "    response = chatbot.respond(processed_input)\n",
    "    if response:\n",
    "        print(f\"{response}\")\n",
    "    else:\n",
    "        print(\"But:I'm not sure how to respond to that.\")"
   ]
  },
  {
   "cell_type": "code",
   "execution_count": null,
   "id": "e2f1997a-74c5-4922-9cdb-23f6180df738",
   "metadata": {},
   "outputs": [],
   "source": []
  }
 ],
 "metadata": {
  "kernelspec": {
   "display_name": "Python 3 (ipykernel)",
   "language": "python",
   "name": "python3"
  },
  "language_info": {
   "codemirror_mode": {
    "name": "ipython",
    "version": 3
   },
   "file_extension": ".py",
   "mimetype": "text/x-python",
   "name": "python",
   "nbconvert_exporter": "python",
   "pygments_lexer": "ipython3",
   "version": "3.12.0"
  }
 },
 "nbformat": 4,
 "nbformat_minor": 5
}
